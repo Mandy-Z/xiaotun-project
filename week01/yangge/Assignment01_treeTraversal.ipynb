{
 "cells": [
  {
   "cell_type": "code",
   "execution_count": 1,
   "id": "dba43950",
   "metadata": {},
   "outputs": [
    {
     "name": "stdout",
     "output_type": "stream",
     "text": [
      "[[7], [5, 6], [3, 2], [9, 1], [15]]\n"
     ]
    }
   ],
   "source": [
    "# 构造二叉树，用层序遍历展示树结构\n",
    "#            7\n",
    "#           /\\\n",
    "#         5  6\n",
    "#        /\\\n",
    "#      3  2\n",
    "#        /\\\n",
    "#      9  1\n",
    "#        /\n",
    "#      15   \n",
    "from collections import deque\n",
    "class TreeNode:\n",
    "    def __init__(self, val=None, left=None, right=None):\n",
    "        self.val = val\n",
    "        self.left = left\n",
    "        self.right = right\n",
    "    \n",
    "    def levelorder(self):\n",
    "        res = []\n",
    "        que = deque([self])\n",
    "        while que:\n",
    "            layer = []\n",
    "            for _ in range(len(que)):\n",
    "                cur = que.popleft()\n",
    "                layer.append(cur.val)\n",
    "                if cur.left:\n",
    "                    que.append(cur.left)\n",
    "                if cur.right:\n",
    "                    que.append(cur.right)\n",
    "            res.append(layer)\n",
    "        print(res)\n",
    "        \n",
    "\n",
    "tree = TreeNode(7, TreeNode(5, TreeNode(3), TreeNode(2, TreeNode(9), TreeNode(1, TreeNode(15)))), TreeNode(6))\n",
    "tree.levelorder()"
   ]
  },
  {
   "cell_type": "code",
   "execution_count": 2,
   "id": "24f90ff3",
   "metadata": {},
   "outputs": [
    {
     "name": "stdout",
     "output_type": "stream",
     "text": [
      "Preorder traversal of binary tree is:\n",
      "7 5 3 2 9 1 15 6 \n",
      "Inorder traversal of binary tree is:\n",
      "3 5 9 2 15 1 7 6 \n",
      "Postorder traversal of binary tree is:\n",
      "3 9 15 1 2 5 6 7 "
     ]
    }
   ],
   "source": [
    "# 二叉树前中后序遍历（递归）\n",
    "def preorder(root):\n",
    "    if not root:\n",
    "        return\n",
    "    print(root.val, end = ' ')\n",
    "    preorder(root.left)\n",
    "    preorder(root.right)\n",
    "    \n",
    "def inorder(root):\n",
    "    if not root:\n",
    "        return\n",
    "    inorder(root.left)\n",
    "    print(root.val, end = ' ')\n",
    "    inorder(root.right)\n",
    "    \n",
    "def postorder(root):\n",
    "    if not root:\n",
    "        return\n",
    "    postorder(root.left)\n",
    "    postorder(root.right)\n",
    "    print(root.val, end = ' ')\n",
    "\n",
    "if __name__==\"__main__\":\n",
    "    print(\"Preorder traversal of binary tree is:\")\n",
    "    preorder(tree)\n",
    "    print(\"\\n\"+\"Inorder traversal of binary tree is:\")\n",
    "    inorder(tree)\n",
    "    print(\"\\n\"+\"Postorder traversal of binary tree is:\")\n",
    "    postorder(tree)"
   ]
  },
  {
   "cell_type": "code",
   "execution_count": 3,
   "id": "e00e1a9a",
   "metadata": {},
   "outputs": [
    {
     "name": "stdout",
     "output_type": "stream",
     "text": [
      "Preorder traversal of binary tree is:\n",
      "7 5 3 2 9 1 15 6 \n",
      "Inorder traversal of binary tree is:\n",
      "3 5 9 2 15 1 7 6 \n",
      "Postorder traversal of binary tree is:\n",
      "3 9 15 1 2 5 6 7\n"
     ]
    }
   ],
   "source": [
    "# 二叉树前中后序遍历（非递归）\n",
    "def preorder_nonrec(root):\n",
    "    st = []\n",
    "    cur = root\n",
    "    while st or cur:\n",
    "        while cur:\n",
    "            print(cur.val, end = ' ')\n",
    "            st.append(cur.right)\n",
    "            cur = cur.left\n",
    "        cur = st.pop()\n",
    "\n",
    "def inorder_nonrec(root):\n",
    "    st = []\n",
    "    cur = root\n",
    "    while st or cur:\n",
    "        while cur:\n",
    "            st.append(cur)\n",
    "            cur = cur.left\n",
    "        cur = st.pop()\n",
    "        print(cur.val, end = ' ')\n",
    "        cur = cur.right\n",
    "\n",
    "def postorder_nonrec(root):\n",
    "    st = []\n",
    "    res = [] # record the reverse of true postorder traversal: root, right, left\n",
    "    cur = root\n",
    "    while st or cur:\n",
    "        while cur:\n",
    "            res.append(str(cur.val))\n",
    "            st.append(cur.left)\n",
    "            cur = cur.right\n",
    "        cur = st.pop()\n",
    "    print(' '.join(res[::-1]))\n",
    "        \n",
    "if __name__==\"__main__\":\n",
    "    print(\"Preorder traversal of binary tree is:\")\n",
    "    preorder_nonrec(tree)\n",
    "    print(\"\\n\"+\"Inorder traversal of binary tree is:\")\n",
    "    inorder_nonrec(tree)\n",
    "    print(\"\\n\"+\"Postorder traversal of binary tree is:\")\n",
    "    postorder_nonrec(tree)"
   ]
  },
  {
   "cell_type": "code",
   "execution_count": 4,
   "id": "6522e880",
   "metadata": {},
   "outputs": [
    {
     "name": "stdout",
     "output_type": "stream",
     "text": [
      "Inverted tree is:\n",
      "[[7], [6, 5], [2, 3], [1, 9], [15]]\n",
      "Preorder traversal of inversed tree is:\n",
      "7 5 3 2 9 1 15 6 "
     ]
    }
   ],
   "source": [
    "# 反转二叉树\n",
    "def invert(root):\n",
    "    if not root:\n",
    "        return root\n",
    "    if not root.left and not root.right:\n",
    "        return root\n",
    "    left = root.left\n",
    "    right = root.right\n",
    "    if left:\n",
    "        left = invert(left)\n",
    "    if right:\n",
    "        right = invert(right)\n",
    "    root.right = left\n",
    "    root.left = right\n",
    "    return root\n",
    "\n",
    "if __name__==\"__main__\":\n",
    "    print(\"Inverted tree is:\")\n",
    "    invert(tree).levelorder()\n",
    "    print(\"Preorder traversal of inversed tree is:\")\n",
    "    preorder_nonrec(invert(tree))"
   ]
  },
  {
   "cell_type": "code",
   "execution_count": 5,
   "id": "1e8af270",
   "metadata": {},
   "outputs": [
    {
     "name": "stdout",
     "output_type": "stream",
     "text": [
      "The depth of tree is: 5\n"
     ]
    }
   ],
   "source": [
    "# 二叉树最大深度\n",
    "def findDepth(root):\n",
    "    if not root:\n",
    "        return 0\n",
    "    if not root.left and not root.right:\n",
    "        return 1\n",
    "    left_dep = findDepth(root.left)\n",
    "    right_dep = findDepth(root.right)\n",
    "    return 1+max(left_dep,right_dep)\n",
    "\n",
    "if __name__==\"__main__\":\n",
    "    depth = findDepth(tree)\n",
    "    print(f\"The depth of tree is: {depth}\")"
   ]
  },
  {
   "cell_type": "code",
   "execution_count": null,
   "id": "e33d7f1e",
   "metadata": {},
   "outputs": [],
   "source": []
  }
 ],
 "metadata": {
  "kernelspec": {
   "display_name": "Python 3",
   "language": "python",
   "name": "python3"
  },
  "language_info": {
   "codemirror_mode": {
    "name": "ipython",
    "version": 3
   },
   "file_extension": ".py",
   "mimetype": "text/x-python",
   "name": "python",
   "nbconvert_exporter": "python",
   "pygments_lexer": "ipython3",
   "version": "3.8.8"
  }
 },
 "nbformat": 4,
 "nbformat_minor": 5
}
