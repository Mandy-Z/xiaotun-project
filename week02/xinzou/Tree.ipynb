{
 "cells": [
  {
   "cell_type": "markdown",
   "id": "17927463",
   "metadata": {
    "ExecuteTime": {
     "end_time": "2022-10-13T13:36:46.974039Z",
     "start_time": "2022-10-13T13:36:46.970048Z"
    }
   },
   "source": [
    "#### week2作业题目：构建一棵二叉树，实现二叉树的前中后序遍历，二叉树反转、并求二叉树的最大深度"
   ]
  },
  {
   "cell_type": "code",
   "execution_count": 9,
   "id": "d9802650",
   "metadata": {
    "ExecuteTime": {
     "end_time": "2022-10-13T13:37:55.296762Z",
     "start_time": "2022-10-13T13:37:55.278775Z"
    }
   },
   "outputs": [],
   "source": [
    "#首先定义树节点\n",
    "class Node:\n",
    "    def __init__(self, value = None, left = None, right = None):\n",
    "        self.value = value\n",
    "        self.left = left\n",
    "        self.right = right"
   ]
  },
  {
   "cell_type": "code",
   "execution_count": 32,
   "id": "f1891f62",
   "metadata": {
    "ExecuteTime": {
     "end_time": "2022-10-13T14:16:21.952126Z",
     "start_time": "2022-10-13T14:16:21.934174Z"
    }
   },
   "outputs": [],
   "source": [
    "# 使用递归实现三种树的遍历\n",
    "# 先序遍历（LR）\n",
    "def preTraverse(root):\n",
    "    if root == None:\n",
    "        return\n",
    "    print(root.value, end=\" \")  #打印根节点元素\n",
    "    preTraverse(root.left)\n",
    "    preTraverse(root.right)\n",
    "\n",
    "#中序遍历（LNR）\n",
    "def midTraverse(root):\n",
    "    if root == None:\n",
    "        return\n",
    "    midTraverse(root.left)\n",
    "    print(root.value, end=\" \")  #打印根节点元素\n",
    "    midTraverse(root.right)\n",
    "\n",
    "#后序遍历（LRN）\n",
    "def posTraverse(root):\n",
    "    if root == None:\n",
    "        return\n",
    "    posTraverse(root.left)\n",
    "    posTraverse(root.right)\n",
    "    print(root.value, end=\" \")  #打印根节点元素"
   ]
  },
  {
   "cell_type": "code",
   "execution_count": 33,
   "id": "103ba55d",
   "metadata": {
    "ExecuteTime": {
     "end_time": "2022-10-13T14:16:24.260672Z",
     "start_time": "2022-10-13T14:16:24.204521Z"
    }
   },
   "outputs": [
    {
     "name": "stdout",
     "output_type": "stream",
     "text": [
      "先序遍历:\n",
      "D B A C E G F \n",
      "中序遍历:\n",
      "A B C D E F G \n",
      "后序遍历:\n",
      "A C B F G E D "
     ]
    }
   ],
   "source": [
    "root = Node('D',Node('B',Node('A'),Node('C')),Node('E',right=Node('G',Node('F')))) #测试用例\n",
    "print('先序遍历:')\n",
    "preTraverse(root)\n",
    "print('\\n中序遍历:')\n",
    "midTraverse(root)\n",
    "print('\\n后序遍历:')\n",
    "posTraverse(root)"
   ]
  },
  {
   "cell_type": "code",
   "execution_count": 36,
   "id": "94845b19",
   "metadata": {
    "ExecuteTime": {
     "end_time": "2022-10-13T14:17:09.166816Z",
     "start_time": "2022-10-13T14:17:09.150859Z"
    }
   },
   "outputs": [],
   "source": [
    "# 后序遍历实现二叉树反转\n",
    "def invertTree(root):\n",
    "    if root is None:  \n",
    "        return \n",
    "    invertTree(root.left)  \n",
    "    invertTree(root.right)  \n",
    "    root.left, root.right = root.right, root.left  # 左右字树翻转\n",
    "    return root"
   ]
  },
  {
   "cell_type": "code",
   "execution_count": 37,
   "id": "2d92fd81",
   "metadata": {
    "ExecuteTime": {
     "end_time": "2022-10-13T14:17:09.532373Z",
     "start_time": "2022-10-13T14:17:09.514433Z"
    }
   },
   "outputs": [
    {
     "name": "stdout",
     "output_type": "stream",
     "text": [
      "先序遍历:\n",
      "D E G F B C A \n",
      "中序遍历:\n",
      "G F E D C B A \n",
      "后序遍历:\n",
      "F G E C A B D "
     ]
    }
   ],
   "source": [
    "root = invertTree(root)\n",
    "print('先序遍历:')\n",
    "preTraverse(root)\n",
    "print('\\n中序遍历:')\n",
    "midTraverse(root)\n",
    "print('\\n后序遍历:')\n",
    "posTraverse(root)"
   ]
  },
  {
   "cell_type": "code",
   "execution_count": 45,
   "id": "fe5ef713",
   "metadata": {
    "ExecuteTime": {
     "end_time": "2022-10-13T14:27:22.859523Z",
     "start_time": "2022-10-13T14:27:22.842569Z"
    }
   },
   "outputs": [],
   "source": [
    "# 求二叉树的最大深度\n",
    "# 1.使用递归实现\n",
    "def maxDepth1(root) -> int:\n",
    "    if (root==None):\n",
    "        return 0\n",
    "    num_left = maxDepth1(root.left) + 1\n",
    "    num_right = maxDepth1(root.right) + 1\n",
    "\n",
    "    if num_left >= num_right:\n",
    "        return num_left       \n",
    "\n",
    "    return num_right\n",
    "\n",
    "# 2.使用队列，按层遍历\n",
    "def maxDepth2(root) -> int:\n",
    "    if(root==None):\n",
    "        return 0\n",
    "    queue = [root]\n",
    "    count = 0\n",
    "    while(queue):\n",
    "        count += 1\n",
    "        size = len(queue)\n",
    "        while(size):\n",
    "            size -= 1\n",
    "            node = queue.pop(0)\n",
    "            if node.left:\n",
    "                queue.append(node.left)\n",
    "            if node.right:\n",
    "                queue.append(node.right)\n",
    "\n",
    "    return count\n",
    "\n",
    "# 3.使用双栈，一个存储节点，一个记录该节点所在深度，并记录下遍历过程中的深度最大值\n",
    "def maxDepth3(root) -> int:\n",
    "    if(root==None):\n",
    "        return 0\n",
    "    stack1 = [root]\n",
    "    stack2 = [1]\n",
    "    maxd = 1\n",
    "    while(stack1):\n",
    "\n",
    "        node = stack1.pop()\n",
    "        depth = stack2.pop()\n",
    "        maxd = max(maxd,depth)\n",
    "\n",
    "        if node.left:\n",
    "            stack1.append(node.left)\n",
    "            stack2.append(depth + 1)\n",
    "        if node.right:\n",
    "            stack1.append(node.right)\n",
    "            stack2.append(depth + 1)\n",
    "\n",
    "    return maxd "
   ]
  },
  {
   "cell_type": "code",
   "execution_count": 46,
   "id": "6e259947",
   "metadata": {
    "ExecuteTime": {
     "end_time": "2022-10-13T14:27:23.432774Z",
     "start_time": "2022-10-13T14:27:23.419772Z"
    }
   },
   "outputs": [
    {
     "name": "stdout",
     "output_type": "stream",
     "text": [
      "4\n",
      "4\n",
      "4\n"
     ]
    }
   ],
   "source": [
    "maxdeep1 = maxDepth1(root)\n",
    "print(maxdeep1)\n",
    "maxdeep2 = maxDepth2(root)\n",
    "print(maxdeep2)\n",
    "maxdeep3 = maxDepth3(root)\n",
    "print(maxdeep3)"
   ]
  },
  {
   "cell_type": "code",
   "execution_count": null,
   "id": "227b1127",
   "metadata": {},
   "outputs": [],
   "source": []
  }
 ],
 "metadata": {
  "kernelspec": {
   "display_name": "t37",
   "language": "python",
   "name": "torch37"
  },
  "language_info": {
   "codemirror_mode": {
    "name": "ipython",
    "version": 3
   },
   "file_extension": ".py",
   "mimetype": "text/x-python",
   "name": "python",
   "nbconvert_exporter": "python",
   "pygments_lexer": "ipython3",
   "version": "3.7.9"
  }
 },
 "nbformat": 4,
 "nbformat_minor": 5
}
