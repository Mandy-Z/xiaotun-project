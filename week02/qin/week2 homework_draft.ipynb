{
 "cells": [
  {
   "cell_type": "markdown",
   "metadata": {},
   "source": [
    "## 1. 构建一棵二叉树"
   ]
  },
  {
   "cell_type": "code",
   "execution_count": 114,
   "metadata": {},
   "outputs": [],
   "source": [
    "class TreeNode():\n",
    "    def __init__(self,value=-1,left=None,right=None):\n",
    "        self.value=value\n",
    "        self.left=left\n",
    "        self.right=right\n"
   ]
  },
  {
   "cell_type": "code",
   "execution_count": 119,
   "metadata": {},
   "outputs": [],
   "source": [
    "def Creat_Tree(Root,vals):\n",
    "    if len(vals)==0:#终止条件：val用完了\n",
    "        return Root\n",
    "    if vals[0]!='*':#本层需要干的就是构建Root、Root.lchild、Root.rchild三个节点。\n",
    "        Root = TreeNode(vals[0])\n",
    "        vals.pop(0)\n",
    "        Root.left = Creat_Tree(Root.left,vals)\n",
    "        Root.right = Creat_Tree(Root.right,vals)\n",
    "        return Root#本次递归要返回给上一次的本层构造好的树的根节点\n",
    "    else:\n",
    "        Root=None\n",
    "        vals.pop(0)\n",
    "        return Root#本次递归要返回给上一次的本层构造好的树的根节点\n"
   ]
  },
  {
   "cell_type": "code",
   "execution_count": 211,
   "metadata": {},
   "outputs": [],
   "source": [
    "root=TreeNode()\n",
    "strs=\"gsw***h*z\"\n",
    "vlist=list(strs)\n",
    "roots=Creat_Tree(root,vlist)"
   ]
  },
  {
   "cell_type": "code",
   "execution_count": 193,
   "metadata": {},
   "outputs": [
    {
     "data": {
      "text/plain": [
       "'h'"
      ]
     },
     "execution_count": 193,
     "metadata": {},
     "output_type": "execute_result"
    }
   ],
   "source": [
    "roots.right.value"
   ]
  },
  {
   "cell_type": "markdown",
   "metadata": {},
   "source": [
    "## 2.1 二叉树遍历"
   ]
  },
  {
   "cell_type": "code",
   "execution_count": 194,
   "metadata": {},
   "outputs": [],
   "source": [
    "## 前向遍历\n",
    "def prior_read(root):\n",
    "    if(root!=None):\n",
    "        print(root.value)\n",
    "        prior_read(root.left)\n",
    "        prior_read(root.right)\n",
    "        \n",
    "#prior_read(roots)\n",
    "## 中序遍历\n",
    "def middle_read(root):\n",
    "    if(root!=None):\n",
    "        prior_read(root.left)\n",
    "        print(root.value)\n",
    "        prior_read(root.right)\n",
    "        \n",
    "#### 后序遍历\n",
    "def back_read(root):\n",
    "    if(root!=None):\n",
    "        prior_read(root.left)\n",
    "        prior_read(root.right)\n",
    "        print(root.value)"
   ]
  },
  {
   "cell_type": "code",
   "execution_count": 212,
   "metadata": {},
   "outputs": [
    {
     "name": "stdout",
     "output_type": "stream",
     "text": [
      "g\n",
      "s\n",
      "w\n",
      "h\n",
      "z\n"
     ]
    }
   ],
   "source": [
    "prior_read(roots)"
   ]
  },
  {
   "cell_type": "code",
   "execution_count": 196,
   "metadata": {},
   "outputs": [
    {
     "name": "stdout",
     "output_type": "stream",
     "text": [
      "s\n",
      "w\n",
      "g\n",
      "h\n",
      "z\n"
     ]
    }
   ],
   "source": [
    "middle_read(roots)"
   ]
  },
  {
   "cell_type": "code",
   "execution_count": 197,
   "metadata": {},
   "outputs": [
    {
     "name": "stdout",
     "output_type": "stream",
     "text": [
      "s\n",
      "w\n",
      "h\n",
      "z\n",
      "g\n"
     ]
    }
   ],
   "source": [
    "back_read(roots)"
   ]
  },
  {
   "cell_type": "markdown",
   "metadata": {},
   "source": [
    "## 二叉树翻转"
   ]
  },
  {
   "cell_type": "code",
   "execution_count": 213,
   "metadata": {},
   "outputs": [],
   "source": [
    "def reverse(root):\n",
    "    if(not root):\n",
    "        return None\n",
    "    root.left,root.right=root.right,root.left\n",
    "    root.left=reverse(root.left)\n",
    "    root.right=reverse(root.right)\n",
    "    return root"
   ]
  },
  {
   "cell_type": "code",
   "execution_count": 214,
   "metadata": {},
   "outputs": [
    {
     "name": "stdout",
     "output_type": "stream",
     "text": [
      "g\n",
      "s\n",
      "w\n",
      "h\n",
      "z\n"
     ]
    }
   ],
   "source": [
    "prior_read(roots)"
   ]
  },
  {
   "cell_type": "code",
   "execution_count": 215,
   "metadata": {},
   "outputs": [],
   "source": [
    "roots_reverse=reverse(roots)"
   ]
  },
  {
   "cell_type": "code",
   "execution_count": 216,
   "metadata": {},
   "outputs": [
    {
     "name": "stdout",
     "output_type": "stream",
     "text": [
      "g\n",
      "h\n",
      "z\n",
      "s\n",
      "w\n"
     ]
    }
   ],
   "source": [
    "prior_read(roots_reverse)"
   ]
  },
  {
   "cell_type": "markdown",
   "metadata": {},
   "source": [
    "## 二叉树最大深度"
   ]
  },
  {
   "cell_type": "code",
   "execution_count": 218,
   "metadata": {},
   "outputs": [],
   "source": [
    "def maxdepth(root):\n",
    "    if(root==None):\n",
    "        return 0\n",
    "    return max(maxdepth(root.left),maxdepth(root.right))+1\n",
    "\n"
   ]
  },
  {
   "cell_type": "code",
   "execution_count": 219,
   "metadata": {},
   "outputs": [
    {
     "data": {
      "text/plain": [
       "3"
      ]
     },
     "execution_count": 219,
     "metadata": {},
     "output_type": "execute_result"
    }
   ],
   "source": [
    "maxdepth(roots)"
   ]
  },
  {
   "cell_type": "code",
   "execution_count": null,
   "metadata": {},
   "outputs": [],
   "source": []
  }
 ],
 "metadata": {
  "kernelspec": {
   "display_name": "Python 3",
   "language": "python",
   "name": "python3"
  },
  "language_info": {
   "codemirror_mode": {
    "name": "ipython",
    "version": 3
   },
   "file_extension": ".py",
   "mimetype": "text/x-python",
   "name": "python",
   "nbconvert_exporter": "python",
   "pygments_lexer": "ipython3",
   "version": "3.6.4"
  }
 },
 "nbformat": 4,
 "nbformat_minor": 2
}
