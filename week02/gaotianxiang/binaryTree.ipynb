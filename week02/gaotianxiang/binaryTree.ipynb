{
 "cells": [
  {
   "cell_type": "markdown",
   "metadata": {},
   "source": [
    "# BinaryTree"
   ]
  },
  {
   "cell_type": "code",
   "execution_count": 3,
   "metadata": {},
   "outputs": [],
   "source": [
    "class TreeNode:\n",
    "    def __init__(self, val, left=None, right=None):\n",
    "        self.val = val\n",
    "        self.left = left\n",
    "        self.right = right\n",
    "\n",
    "#              1\n",
    "#            /  \\\n",
    "#          2    3\n",
    "#        /  \\   \\\n",
    "#      4    5   6\n",
    "#      \\   /\n",
    "#      7  8\n",
    "\n",
    "testTree = TreeNode(1, TreeNode(2, TreeNode(4, right=TreeNode(7)), TreeNode(5, TreeNode(8))), TreeNode(3,right=TreeNode(6)))"
   ]
  },
  {
   "cell_type": "markdown",
   "metadata": {},
   "source": [
    "# Traversal"
   ]
  },
  {
   "cell_type": "markdown",
   "metadata": {},
   "source": [
    "### preorder"
   ]
  },
  {
   "cell_type": "code",
   "execution_count": 4,
   "metadata": {},
   "outputs": [],
   "source": [
    "def preorderRecur(root):\n",
    "    if root:\n",
    "        print(root.val, end=' ')\n",
    "        preorderRecur(root.left)\n",
    "        preorderRecur(root.right)\n",
    "\n",
    "def preorderLoop(root):\n",
    "    stack = []\n",
    "    cur = root\n",
    "    while (cur or stack):\n",
    "        while (cur):\n",
    "            print(cur.val, end=' ')\n",
    "            stack.append(cur)\n",
    "            cur = cur.left\n",
    "        cur = stack.pop()\n",
    "        cur = cur.right\n",
    "    return"
   ]
  },
  {
   "cell_type": "code",
   "execution_count": 5,
   "metadata": {},
   "outputs": [
    {
     "name": "stdout",
     "output_type": "stream",
     "text": [
      "1 2 4 7 5 8 3 6 "
     ]
    }
   ],
   "source": [
    "preorderRecur(testTree)"
   ]
  },
  {
   "cell_type": "code",
   "execution_count": 6,
   "metadata": {
    "pycharm": {
     "name": "#%%\n"
    }
   },
   "outputs": [
    {
     "name": "stdout",
     "output_type": "stream",
     "text": [
      "1 2 4 7 5 8 3 6 "
     ]
    }
   ],
   "source": [
    "preorderLoop(testTree)"
   ]
  },
  {
   "cell_type": "markdown",
   "metadata": {
    "pycharm": {
     "name": "#%% md\n"
    }
   },
   "source": [
    "### inorder"
   ]
  },
  {
   "cell_type": "code",
   "execution_count": 7,
   "metadata": {},
   "outputs": [],
   "source": [
    "def inorderRecur(root):\n",
    "    if root:\n",
    "        inorderRecur(root.left)\n",
    "        print(root.val, end=' ')\n",
    "        inorderRecur(root.right)\n",
    "        \n",
    "def inorderLoop(root):\n",
    "    stack = []\n",
    "    cur = root\n",
    "    while (cur or stack):\n",
    "        while (cur):\n",
    "            stack.append(cur)\n",
    "            cur = cur.left\n",
    "        cur = stack.pop()\n",
    "        print(cur.val, end=' ')\n",
    "        cur = cur.right\n",
    "    return"
   ]
  },
  {
   "cell_type": "code",
   "execution_count": 8,
   "metadata": {
    "pycharm": {
     "name": "#%%\n"
    }
   },
   "outputs": [
    {
     "name": "stdout",
     "output_type": "stream",
     "text": [
      "4 7 2 8 5 1 3 6 "
     ]
    }
   ],
   "source": [
    "inorderRecur(testTree)"
   ]
  },
  {
   "cell_type": "code",
   "execution_count": 9,
   "metadata": {},
   "outputs": [
    {
     "name": "stdout",
     "output_type": "stream",
     "text": [
      "4 7 2 8 5 1 3 6 "
     ]
    }
   ],
   "source": [
    "inorderLoop(testTree)"
   ]
  },
  {
   "cell_type": "markdown",
   "metadata": {
    "pycharm": {
     "name": "#%% md\n"
    }
   },
   "source": [
    "### postorder"
   ]
  },
  {
   "cell_type": "code",
   "execution_count": 10,
   "metadata": {
    "pycharm": {
     "name": "#%%\n"
    }
   },
   "outputs": [],
   "source": [
    "def postorderRecur(root):\n",
    "    if root:\n",
    "        postorderRecur(root.left)\n",
    "        postorderRecur(root.right)\n",
    "        print(root.val, end=' ')\n",
    "              \n",
    "def postorderLoop(root):\n",
    "    stack = []\n",
    "    cur = root\n",
    "    pre = None\n",
    "    while (cur or stack):\n",
    "        while (cur):\n",
    "            stack.append(cur)\n",
    "            cur = cur.left\n",
    "        cur = stack[-1] # peek\n",
    "        if (cur.right and cur.right != pre):\n",
    "            cur = cur.right\n",
    "        else:\n",
    "            print(cur.val, end=' ')\n",
    "            _ = stack.pop()\n",
    "            pre = cur\n",
    "            cur = None\n",
    "    return"
   ]
  },
  {
   "cell_type": "code",
   "execution_count": 11,
   "metadata": {},
   "outputs": [
    {
     "name": "stdout",
     "output_type": "stream",
     "text": [
      "7 4 8 5 2 6 3 1 "
     ]
    }
   ],
   "source": [
    "postorderRecur(testTree)"
   ]
  },
  {
   "cell_type": "code",
   "execution_count": 12,
   "metadata": {},
   "outputs": [
    {
     "name": "stdout",
     "output_type": "stream",
     "text": [
      "7 4 8 5 2 6 3 1 "
     ]
    }
   ],
   "source": [
    "postorderLoop(testTree)"
   ]
  },
  {
   "cell_type": "markdown",
   "metadata": {},
   "source": [
    "# Reverse"
   ]
  },
  {
   "cell_type": "code",
   "execution_count": 13,
   "metadata": {},
   "outputs": [],
   "source": [
    "def reverse(root):\n",
    "    if root:\n",
    "        root.left, root.right = root.right, root.left\n",
    "        reverse(root.left)\n",
    "        reverse(root.right)"
   ]
  },
  {
   "cell_type": "code",
   "execution_count": 14,
   "metadata": {},
   "outputs": [
    {
     "name": "stdout",
     "output_type": "stream",
     "text": [
      "1 3 6 2 5 8 4 7 \n",
      "\n",
      "1 2 4 7 5 8 3 6 "
     ]
    }
   ],
   "source": [
    "reverse(testTree)\n",
    "preorderRecur(testTree)\n",
    "print('\\n')\n",
    "reverse(testTree)\n",
    "preorderRecur(testTree)"
   ]
  },
  {
   "cell_type": "markdown",
   "metadata": {},
   "source": [
    "# MaxDepth"
   ]
  },
  {
   "cell_type": "code",
   "execution_count": 15,
   "metadata": {},
   "outputs": [],
   "source": [
    "def maxDepth(root):\n",
    "    if root:\n",
    "        return 1+max(maxDepth(root.left), maxDepth(root.right))\n",
    "    else:\n",
    "        return 0"
   ]
  },
  {
   "cell_type": "code",
   "execution_count": 16,
   "metadata": {},
   "outputs": [
    {
     "name": "stdout",
     "output_type": "stream",
     "text": [
      "4\n",
      "5\n"
     ]
    }
   ],
   "source": [
    "print(maxDepth(testTree))\n",
    "#              1\n",
    "#            /  \\\n",
    "#          2    3\n",
    "#        /  \\   \\\n",
    "#      4    5   6\n",
    "#      \\   /\n",
    "#      7  8\n",
    "#         \\\n",
    "#         9\n",
    "testTree = TreeNode(1, TreeNode(2, TreeNode(4, right=TreeNode(7)), TreeNode(5, TreeNode(8, right=TreeNode(9)))), TreeNode(3,right=TreeNode(6)))\n",
    "print(maxDepth(testTree))"
   ]
  }
 ],
 "metadata": {
  "kernelspec": {
   "display_name": "Python 3 (ipykernel)",
   "language": "python",
   "name": "python3"
  },
  "language_info": {
   "codemirror_mode": {
    "name": "ipython",
    "version": 3
   },
   "file_extension": ".py",
   "mimetype": "text/x-python",
   "name": "python",
   "nbconvert_exporter": "python",
   "pygments_lexer": "ipython3",
   "version": "3.7.7"
  }
 },
 "nbformat": 4,
 "nbformat_minor": 1
}