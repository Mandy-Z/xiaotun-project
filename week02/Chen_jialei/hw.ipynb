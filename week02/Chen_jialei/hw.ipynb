{
 "cells": [
  {
   "cell_type": "markdown",
   "id": "e88ad7de",
   "metadata": {},
   "source": [
    "## week01作业,三道leetcode题目\n",
    "\n",
    "\n",
    "1. [构建一棵二叉树，实现二叉树的前中后序遍历](#q1)\n",
    "2. [二叉树反转](#q2)\n",
    "3. [求二叉树的最大深度](#q3)"
   ]
  },
  {
   "cell_type": "code",
   "execution_count": 131,
   "id": "7cc593d5",
   "metadata": {},
   "outputs": [],
   "source": [
    "class TreeNode:\n",
    "    def __init__(self, val=0, left=None, right=None):\n",
    "        self.val = val\n",
    "        self.left = left\n",
    "        self.right = right\n",
    "    \n",
    "    def show(self):\n",
    "        \n",
    "        res = [self.val]\n",
    "        def f(queue):\n",
    "            while queue:\n",
    "                tmp = []\n",
    "                while queue:\n",
    "                    cur = queue.pop()\n",
    "                    l = cur.left\n",
    "                    r = cur.right\n",
    "                    if l:\n",
    "                        tmp = [l]+tmp\n",
    "                        res.append(l.val)\n",
    "                    else:\n",
    "                        res.append('#')\n",
    "                    \n",
    "                    if r:\n",
    "                        tmp = [r]+tmp\n",
    "                        res.append(r.val)\n",
    "                    else:\n",
    "                        res.append('#')\n",
    "#                 print([i.val for i in tmp])\n",
    "                queue = tmp\n",
    "        def quick(a):\n",
    "            l=len(a)\n",
    "            for idx,i in enumerate(a[::-1]):\n",
    "                if i != '#':\n",
    "                    return a[:l-idx]\n",
    "        \n",
    "        f([self])\n",
    "        return quick(res)"
   ]
  },
  {
   "cell_type": "markdown",
   "id": "bf518919",
   "metadata": {},
   "source": [
    "<a id='q1'>1.构建一棵二叉树，实现二叉树的前中后序遍历</a>"
   ]
  },
  {
   "cell_type": "code",
   "execution_count": 149,
   "id": "97c7f021",
   "metadata": {},
   "outputs": [
    {
     "data": {
      "text/plain": [
       "[0, 1, 2, 3, 4, 5, 6, 7, 8, 9]"
      ]
     },
     "execution_count": 149,
     "metadata": {},
     "output_type": "execute_result"
    }
   ],
   "source": [
    "# 列表->二叉树\n",
    "nodeList = [i for i in range(10)]\n",
    "def createTreeFromList(nodeList, node=None, i=0):\n",
    "    if i > len(nodeList)-1:\n",
    "        return\n",
    "    node = TreeNode(nodeList[i])\n",
    "    node.left = createTreeFromList(nodeList, node, 2*i+1)\n",
    "    node.right = createTreeFromList(nodeList, node, 2*i+2)\n",
    "    return node\n",
    "a = createTreeFromList(nodeList)\n",
    "a.show()"
   ]
  },
  {
   "cell_type": "code",
   "execution_count": 150,
   "id": "d84af470",
   "metadata": {
    "scrolled": true
   },
   "outputs": [
    {
     "data": {
      "text/plain": [
       "[0, 1, 3, 7, 8, 4, 9, 2, 5, 6]"
      ]
     },
     "execution_count": 150,
     "metadata": {},
     "output_type": "execute_result"
    }
   ],
   "source": [
    "# 前序\n",
    "res = []\n",
    "def preOrder(t):\n",
    "    if not t:return\n",
    "    l = t.left if t.left else None\n",
    "    r = t.right if t.right else None\n",
    "    \n",
    "    res.append(t.val)\n",
    "    preOrder(l)\n",
    "    preOrder(r)\n",
    "preOrder(a)\n",
    "res"
   ]
  },
  {
   "cell_type": "code",
   "execution_count": 151,
   "id": "30d07320",
   "metadata": {},
   "outputs": [
    {
     "data": {
      "text/plain": [
       "[7, 3, 8, 1, 9, 4, 0, 5, 2, 6]"
      ]
     },
     "execution_count": 151,
     "metadata": {},
     "output_type": "execute_result"
    }
   ],
   "source": [
    "# 中序\n",
    "res = []\n",
    "def inOrder(t):\n",
    "    if not t:return\n",
    "    l = t.left if t.left else None\n",
    "    r = t.right if t.right else None\n",
    "    \n",
    "    inOrder(l)\n",
    "    res.append(t.val)\n",
    "    inOrder(r)\n",
    "inOrder(a)\n",
    "res"
   ]
  },
  {
   "cell_type": "code",
   "execution_count": 152,
   "id": "a6d92609",
   "metadata": {},
   "outputs": [
    {
     "data": {
      "text/plain": [
       "[7, 8, 3, 9, 4, 1, 5, 6, 2, 0]"
      ]
     },
     "execution_count": 152,
     "metadata": {},
     "output_type": "execute_result"
    }
   ],
   "source": [
    "# 后序\n",
    "res = []\n",
    "def postOrder(t):\n",
    "    if not t:return\n",
    "    l = t.left if t.left else None\n",
    "    r = t.right if t.right else None\n",
    "    \n",
    "    postOrder(l)\n",
    "    postOrder(r)\n",
    "    res.append(t.val)\n",
    "postOrder(a)\n",
    "res"
   ]
  },
  {
   "cell_type": "markdown",
   "id": "fb8fea84",
   "metadata": {},
   "source": [
    "\n",
    "<a id='q2'>2.二叉树反转</a>"
   ]
  },
  {
   "cell_type": "code",
   "execution_count": 153,
   "id": "45d3f489",
   "metadata": {},
   "outputs": [
    {
     "data": {
      "text/plain": [
       "[0, 1, 2, 3, 4, 5, 6, 7, 8, 9]"
      ]
     },
     "execution_count": 153,
     "metadata": {},
     "output_type": "execute_result"
    }
   ],
   "source": [
    "a.show()"
   ]
  },
  {
   "cell_type": "code",
   "execution_count": 154,
   "id": "8aefa441",
   "metadata": {},
   "outputs": [],
   "source": [
    "def reverse(t):\n",
    "    if not t:return\n",
    "    \n",
    "    t.right, t.left = t.left, t.right\n",
    "    reverse(t.left)\n",
    "    reverse(t.right)\n",
    "reverse(a)"
   ]
  },
  {
   "cell_type": "code",
   "execution_count": 155,
   "id": "5641ca3c",
   "metadata": {},
   "outputs": [
    {
     "data": {
      "text/plain": [
       "[0, 2, 1, 6, 5, 4, 3, '#', '#', '#', '#', '#', 9, 8, 7]"
      ]
     },
     "execution_count": 155,
     "metadata": {},
     "output_type": "execute_result"
    }
   ],
   "source": [
    "a.show()"
   ]
  },
  {
   "cell_type": "markdown",
   "id": "8a88f190",
   "metadata": {},
   "source": [
    "<a id='q3'>3.求二叉树的最大深度</a>"
   ]
  },
  {
   "cell_type": "code",
   "execution_count": 167,
   "id": "a548b7aa",
   "metadata": {},
   "outputs": [],
   "source": [
    "a=createTreeFromList([i for i in range(100)])"
   ]
  },
  {
   "cell_type": "code",
   "execution_count": 169,
   "id": "5ef6f587",
   "metadata": {},
   "outputs": [],
   "source": [
    "b=createTreeFromList([[0,1,3,2,'#','#',4,3]])"
   ]
  },
  {
   "cell_type": "code",
   "execution_count": 170,
   "id": "b3c299ba",
   "metadata": {
    "scrolled": true
   },
   "outputs": [],
   "source": [
    "def maxDeepth(t):\n",
    "    deep = 0\n",
    "    queue = [t]\n",
    "    while queue:\n",
    "        tmp = []\n",
    "        while queue:\n",
    "            cur = queue.pop()\n",
    "            l = cur.left\n",
    "            r = cur.right\n",
    "            if l:\n",
    "                tmp = [l]+tmp\n",
    "            if r:\n",
    "                tmp = [r]+tmp\n",
    "        queue = tmp\n",
    "        deep += 1\n",
    "    return deep"
   ]
  },
  {
   "cell_type": "code",
   "execution_count": 173,
   "id": "530782b5",
   "metadata": {},
   "outputs": [
    {
     "data": {
      "text/plain": [
       "7"
      ]
     },
     "execution_count": 173,
     "metadata": {},
     "output_type": "execute_result"
    }
   ],
   "source": [
    "maxDeepth(a)"
   ]
  },
  {
   "cell_type": "code",
   "execution_count": 174,
   "id": "7e1817ad",
   "metadata": {},
   "outputs": [
    {
     "data": {
      "text/plain": [
       "1"
      ]
     },
     "execution_count": 174,
     "metadata": {},
     "output_type": "execute_result"
    }
   ],
   "source": [
    "maxDeepth(b)"
   ]
  }
 ],
 "metadata": {
  "kernelspec": {
   "display_name": "py365",
   "language": "python",
   "name": "py365"
  },
  "language_info": {
   "codemirror_mode": {
    "name": "ipython",
    "version": 3
   },
   "file_extension": ".py",
   "mimetype": "text/x-python",
   "name": "python",
   "nbconvert_exporter": "python",
   "pygments_lexer": "ipython3",
   "version": "3.6.5"
  }
 },
 "nbformat": 4,
 "nbformat_minor": 5
}
