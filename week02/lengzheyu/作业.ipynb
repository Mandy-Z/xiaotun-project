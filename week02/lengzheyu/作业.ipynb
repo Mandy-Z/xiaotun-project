{
 "cells": [
  {
   "cell_type": "markdown",
   "id": "0f391782",
   "metadata": {},
   "source": [
    "## 二叉树遍历"
   ]
  },
  {
   "cell_type": "code",
   "execution_count": 2,
   "id": "08b6fd01",
   "metadata": {},
   "outputs": [],
   "source": [
    "class TreeNode:\n",
    "    def __init__(self, x):\n",
    "        self.val = x\n",
    "        self.left = None\n",
    "        self.right = None"
   ]
  },
  {
   "cell_type": "markdown",
   "id": "856dc9c0",
   "metadata": {},
   "source": [
    "### 1. 前向遍历"
   ]
  },
  {
   "cell_type": "code",
   "execution_count": 4,
   "id": "acba8aec",
   "metadata": {},
   "outputs": [],
   "source": [
    "## 递归：\n",
    "class Solution:\n",
    "    def preorderTraversal(self,root:TreeNode):\n",
    "        res=[]\n",
    "        self.preorder(root,res)\n",
    "        return res\n",
    "    def preorder(self,root,res):\n",
    "        if not root:\n",
    "            return\n",
    "        res.append(root.val)\n",
    "        self.preorder(root.left,res)\n",
    "        self.preorder(root.right,res)\n",
    "## 循环迭代：\n",
    "class Solution:\n",
    "    def preorderTraversal(self,root:TreeNode):\n",
    "        res=[]\n",
    "        if not root:\n",
    "            return res\n",
    "        s = []\n",
    "        s.append(root)\n",
    "        while s:\n",
    "            node = s.pop()\n",
    "            res.append(s.val)\n",
    "            if node.right:\n",
    "                s.append(node.right)\n",
    "            if node.left:\n",
    "                s.append(node.left)\n",
    "        return s"
   ]
  },
  {
   "cell_type": "markdown",
   "id": "2aa72e73",
   "metadata": {},
   "source": [
    "### 2. 中向遍历"
   ]
  },
  {
   "cell_type": "code",
   "execution_count": 5,
   "id": "69a3756c",
   "metadata": {},
   "outputs": [],
   "source": [
    "## 递归：\n",
    "class Solution:\n",
    "    def inorderTraversal(self,root:TreeNode):\n",
    "        res=[]\n",
    "        self.inorder(root,res)\n",
    "        return res\n",
    "    def inorder(self,root,res):\n",
    "        if not root:\n",
    "            return\n",
    "        self.inorder(root.left,res)\n",
    "        res.append(root.val)\n",
    "        self.inorder(root.right,res)\n",
    "\n",
    "## 循环迭代：\n",
    "class Solution:\n",
    "    def inorderTraversal(self,root:TreeNode):\n",
    "        res=[]\n",
    "        s=[]\n",
    "        while root or s:\n",
    "            while root:\n",
    "                s.append(root)\n",
    "                root = root.left\n",
    "            node = s.pop()\n",
    "            s.append(node.val)\n",
    "            if node.right:\n",
    "                root = node.right\n",
    "        return res"
   ]
  },
  {
   "cell_type": "markdown",
   "id": "9af27bf6",
   "metadata": {},
   "source": [
    "### 3. 后向遍历"
   ]
  },
  {
   "cell_type": "code",
   "execution_count": 6,
   "id": "5cbc4f5e",
   "metadata": {},
   "outputs": [],
   "source": [
    "## 递归\n",
    "class Solution:\n",
    "    def postorderTraversal(self,root:TreeNode):\n",
    "        res=[]\n",
    "        self.postorder(root,res)\n",
    "        return res\n",
    "    def postorder(self,root,res):\n",
    "        if not root:\n",
    "            return\n",
    "        self.postorder(root.left,res)\n",
    "        self.postorder(root.right,res)\n",
    "        res.append(root.val)\n",
    "## 循环迭代\n",
    "class Solution:\n",
    "    def postorderTraversal(self,root:TreeNode):\n",
    "        res=[]\n",
    "        s = []\n",
    "        pre = None\n",
    "        while root or s:\n",
    "            while root:\n",
    "                s.append(root)\n",
    "                root = root.left\n",
    "            node = s.pop()\n",
    "            if not node.right or node.right==pre:\n",
    "                res.append(node.val)\n",
    "                pre = node\n",
    "            else:\n",
    "                s.append(node)\n",
    "                root = node.right\n",
    "        return res"
   ]
  },
  {
   "cell_type": "markdown",
   "id": "99e72764",
   "metadata": {},
   "source": [
    "## 二叉树反转"
   ]
  },
  {
   "cell_type": "code",
   "execution_count": 9,
   "id": "a2f93b58",
   "metadata": {},
   "outputs": [],
   "source": [
    "class Solution(object):\n",
    "    def invertTree(self, root):\n",
    "        if not root:\n",
    "            return\n",
    "        root.left,root.right = root.right,root.left\n",
    "        self.invertTree(root.left)\n",
    "        self.invertTree(root.right)\n",
    "        return root"
   ]
  },
  {
   "cell_type": "markdown",
   "id": "42801b4c",
   "metadata": {},
   "source": [
    "## 二叉树深度"
   ]
  },
  {
   "cell_type": "code",
   "execution_count": 7,
   "id": "98b66992",
   "metadata": {},
   "outputs": [],
   "source": [
    "class Solution:\n",
    "    def maxDepth(self , root: TreeNode) -> int:\n",
    "        # write code here\n",
    "        if not root:\n",
    "            return 0\n",
    "        return max(self.maxDepth(root.left)+1,self.maxDepth(root.right)+1)"
   ]
  }
 ],
 "metadata": {
  "kernelspec": {
   "display_name": "Python 3 (ipykernel)",
   "language": "python",
   "name": "python3"
  },
  "language_info": {
   "codemirror_mode": {
    "name": "ipython",
    "version": 3
   },
   "file_extension": ".py",
   "mimetype": "text/x-python",
   "name": "python",
   "nbconvert_exporter": "python",
   "pygments_lexer": "ipython3",
   "version": "3.8.13"
  }
 },
 "nbformat": 4,
 "nbformat_minor": 5
}
