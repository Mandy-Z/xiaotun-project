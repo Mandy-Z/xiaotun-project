{
 "cells": [
  {
   "cell_type": "code",
   "execution_count": 1,
   "id": "6832ef9a",
   "metadata": {},
   "outputs": [],
   "source": [
    "# 构建一棵二叉树，实现二叉树的前中后序遍历\n",
    "class TreeNode:\n",
    "    def __init__(self, val=0, left=None, right=None):\n",
    "        self.val = val\n",
    "        self.left = left\n",
    "        self.right = right"
   ]
  },
  {
   "cell_type": "code",
   "execution_count": 4,
   "id": "48a813db",
   "metadata": {},
   "outputs": [],
   "source": [
    "from typing import List,Optional\n",
    "def preorderTraversal(root: Optional[TreeNode]) -> List[int]:\n",
    "    def preorder(root:TreeNode):\n",
    "        if not root:\n",
    "            return\n",
    "        res.append(root.val)\n",
    "        preorder(root.left)\n",
    "        preorder(root.right)\n",
    "    res=list()\n",
    "    preorder(root)\n",
    "    return res"
   ]
  },
  {
   "cell_type": "code",
   "execution_count": 5,
   "id": "cdc96e16",
   "metadata": {},
   "outputs": [],
   "source": [
    "def Creat_Tree(Root,vals) -> TreeNode:\n",
    "    if len(vals)==0:#终止条件：val用完了\n",
    "        return Root\n",
    "    if vals[0]!='#':#本层需要干的就是构建Root、Root.lchild、Root.rchild三个节点。\n",
    "        Root = TreeNode(vals[0])\n",
    "        vals.pop(0)\n",
    "        Root.left = Creat_Tree(Root.left,vals)\n",
    "        Root.left = Creat_Tree(Root.left,vals)\n",
    "        return Root#本次递归要返回给上一次的本层构造好的树的根节点\n",
    "    else:\n",
    "        Root=None\n",
    "        vals.pop(0)\n",
    "        return Root#本次递归要返回给上一次的本层构造好的树的根节点"
   ]
  },
  {
   "cell_type": "code",
   "execution_count": 20,
   "id": "b11d7687",
   "metadata": {},
   "outputs": [
    {
     "ename": "AttributeError",
     "evalue": "'NoneType' object has no attribute 'val'",
     "output_type": "error",
     "traceback": [
      "\u001b[1;31m---------------------------------------------------------------------------\u001b[0m",
      "\u001b[1;31mAttributeError\u001b[0m                            Traceback (most recent call last)",
      "Input \u001b[1;32mIn [20]\u001b[0m, in \u001b[0;36m<cell line: 1>\u001b[1;34m()\u001b[0m\n\u001b[0;32m      4\u001b[0m vals\u001b[38;5;241m=\u001b[39m \u001b[38;5;28mlist\u001b[39m(strs)\n\u001b[0;32m      5\u001b[0m Roots\u001b[38;5;241m=\u001b[39mCreat_Tree(Root,vals)\u001b[38;5;66;03m#Roots就是我们要的二叉树的根节点。\u001b[39;00m\n\u001b[1;32m----> 6\u001b[0m \u001b[38;5;28mprint\u001b[39m(\u001b[43mRoots\u001b[49m\u001b[38;5;241;43m.\u001b[39;49m\u001b[43mright\u001b[49m\u001b[38;5;241;43m.\u001b[39;49m\u001b[43mval\u001b[49m)\n\u001b[0;32m      7\u001b[0m res\u001b[38;5;241m=\u001b[39mpreorderTraversal(Roots)\n\u001b[0;32m      8\u001b[0m \u001b[38;5;28;01mfor\u001b[39;00m num \u001b[38;5;129;01min\u001b[39;00m res:\n",
      "\u001b[1;31mAttributeError\u001b[0m: 'NoneType' object has no attribute 'val'"
     ]
    }
   ],
   "source": [
    "if __name__ == '__main__':\n",
    "    Root=None\n",
    "    strs=\"abc##d##e##\"#前序遍历扩展的二叉树序列\n",
    "    vals= list(strs)\n",
    "    Roots=Creat_Tree(Root,vals)#Roots就是我们要的二叉树的根节点。\n",
    "    print(Roots.right.val)\n",
    "    res=preorderTraversal(Roots)\n",
    "    for num in res:\n",
    "        print(num)"
   ]
  },
  {
   "cell_type": "code",
   "execution_count": null,
   "id": "65de3f49",
   "metadata": {},
   "outputs": [],
   "source": []
  },
  {
   "cell_type": "code",
   "execution_count": null,
   "id": "7e89367b",
   "metadata": {},
   "outputs": [],
   "source": []
  },
  {
   "cell_type": "code",
   "execution_count": null,
   "id": "ee10cb15",
   "metadata": {},
   "outputs": [],
   "source": []
  }
 ],
 "metadata": {
  "kernelspec": {
   "display_name": "Python 3 (ipykernel)",
   "language": "python",
   "name": "python3"
  },
  "language_info": {
   "codemirror_mode": {
    "name": "ipython",
    "version": 3
   },
   "file_extension": ".py",
   "mimetype": "text/x-python",
   "name": "python",
   "nbconvert_exporter": "python",
   "pygments_lexer": "ipython3",
   "version": "3.9.13"
  }
 },
 "nbformat": 4,
 "nbformat_minor": 5
}
