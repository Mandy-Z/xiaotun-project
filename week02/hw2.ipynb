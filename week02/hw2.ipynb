{
 "cells": [
  {
   "cell_type": "markdown",
   "metadata": {
    "collapsed": true,
    "pycharm": {
     "name": "#%% md\n"
    }
   },
   "source": [
    "# Week 2 Homework\n",
    "\n",
    "* 构建一棵二叉树实现二叉树的前中后序遍历\n",
    "* 二叉树的反转\n",
    "* 求二叉树的最大深度"
   ]
  },
  {
   "cell_type": "markdown",
   "metadata": {
    "pycharm": {
     "name": "#%% md\n"
    }
   },
   "source": [
    "## Q1\n",
    "构建一棵二叉树实现二叉树的前中后序遍历"
   ]
  },
  {
   "cell_type": "code",
   "execution_count": 32,
   "metadata": {
    "pycharm": {
     "name": "#%%\n"
    }
   },
   "outputs": [
    {
     "name": "stdout",
     "output_type": "stream",
     "text": [
      "pre_order of tree1: [1, 2, 3, 4, 5, 6, 7, 8, 9, 10]\n",
      "in_order of tree1: [1, 2, 3, 4, 5, 6, 7, 8, 9, 10]\n",
      "post_order of tree1: [10, 9, 8, 7, 6, 5, 4, 3, 2, 1]\n"
     ]
    }
   ],
   "source": [
    "from typing import Union, List\n",
    "\n",
    "class BTNode:\n",
    "\n",
    "    def __init__(self, val):\n",
    "        self.data = val\n",
    "        self.right = None\n",
    "        self.left = None\n",
    "        self.parent = None\n",
    "\n",
    "Num = Union[int, float]\n",
    "class BiTree:\n",
    "    \"\"\"\n",
    "    Binary Tree with nodes which has smaller left child.\n",
    "    \"\"\"\n",
    "\n",
    "    def __init__(self, li: List[Num]):\n",
    "        self.root = None\n",
    "\n",
    "        # create the tree\n",
    "        if li:\n",
    "            for num in li:\n",
    "                self.insert(num)\n",
    "\n",
    "    def insert(self, val):\n",
    "        \"\"\" insert the val in the tree\"\"\"\n",
    "        p = self.root  # begin with the root every time\n",
    "        if not p:\n",
    "            self.root = BTNode(val)\n",
    "            p = self.root\n",
    "\n",
    "        while True:\n",
    "            if val < p.data:  # search in left sub-tree\n",
    "                if p.left:\n",
    "                    p = p.left\n",
    "\n",
    "                else:\n",
    "                    p.left = BTNode(val)\n",
    "                    p.left.parent = p\n",
    "                    return\n",
    "\n",
    "            elif val > p.data:  # search in right sub-tree\n",
    "                if p.right:\n",
    "                    p = p.right\n",
    "\n",
    "                else:\n",
    "                    p.right = BTNode(val)\n",
    "                    p.right.parent = p\n",
    "\n",
    "            else:  # drop the ele with same val\n",
    "                return\n",
    "            \n",
    "            \n",
    "    def pre_order(self):\n",
    "        output = []\n",
    "        def pre(node):\n",
    "            if node:\n",
    "                output.append(node.data)\n",
    "                pre(node.left)\n",
    "                pre(node.right)\n",
    "        pre(self.root)\n",
    "        return output\n",
    "    \n",
    "    def in_order(self):\n",
    "        output = []\n",
    "        def _in(node):\n",
    "            if node:\n",
    "                _in(node.left)\n",
    "                output.append(node.data)\n",
    "                _in(node.right)\n",
    "        _in(self.root)\n",
    "        return output\n",
    "    \n",
    "    def post_order(self):\n",
    "        output = []\n",
    "        def post(node):\n",
    "            if node:\n",
    "                post(node.left)\n",
    "                post(node.right)\n",
    "                output.append(node.data)\n",
    "        post(self.root)\n",
    "        return output\n",
    "    \n",
    "    def reverse(self):\n",
    "        def rvs(node):\n",
    "            if node:\n",
    "                node.right, node.left = node.left, node.right\n",
    "                rvs(node.left)\n",
    "                rvs(node.right)\n",
    "        rvs(self.root)\n",
    "        \n",
    "\n",
    "        \n",
    "tree1 = BiTree([1,2,3,4,5,6,7,8,9,10])\n",
    "print(\"pre_order of tree1: {}\".format(tree1.pre_order()))\n",
    "print(\"in_order of tree1: {}\".format(tree1.in_order()))\n",
    "print(\"post_order of tree1: {}\".format(tree1.post_order()))"
   ]
  },
  {
   "cell_type": "markdown",
   "metadata": {},
   "source": [
    "## Q2\n",
    "二叉树的反转"
   ]
  },
  {
   "cell_type": "code",
   "execution_count": 35,
   "metadata": {},
   "outputs": [
    {
     "name": "stdout",
     "output_type": "stream",
     "text": [
      "pre_order of reversed tree1: [1, 2, 3, 4, 5, 6, 7, 8, 9, 10]\n",
      "in_order of reversed tree1: [1, 2, 3, 4, 5, 6, 7, 8, 9, 10]\n",
      "post_order of reversed tree1: [10, 9, 8, 7, 6, 5, 4, 3, 2, 1]\n"
     ]
    }
   ],
   "source": [
    "tree1.reverse()\n",
    "\n",
    "print(\"pre_order of reversed tree1: {}\".format(tree1.pre_order()))\n",
    "print(\"in_order of reversed tree1: {}\".format(tree1.in_order()))\n",
    "print(\"post_order of reversed tree1: {}\".format(tree1.post_order()))"
   ]
  },
  {
   "cell_type": "markdown",
   "metadata": {},
   "source": [
    "## Q3\n",
    "求二叉树的最大深度"
   ]
  },
  {
   "cell_type": "code",
   "execution_count": null,
   "metadata": {},
   "outputs": [],
   "source": []
  }
 ],
 "metadata": {
  "kernelspec": {
   "display_name": "Python 3 (ipykernel)",
   "language": "python",
   "name": "python3"
  },
  "language_info": {
   "codemirror_mode": {
    "name": "ipython",
    "version": 3
   },
   "file_extension": ".py",
   "mimetype": "text/x-python",
   "name": "python",
   "nbconvert_exporter": "python",
   "pygments_lexer": "ipython3",
   "version": "3.7.11"
  }
 },
 "nbformat": 4,
 "nbformat_minor": 1
}