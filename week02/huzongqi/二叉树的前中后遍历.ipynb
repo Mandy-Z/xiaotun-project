{
 "cells": [
  {
   "cell_type": "code",
   "execution_count": null,
   "id": "e7474fb5",
   "metadata": {},
   "outputs": [],
   "source": [
    "class Solution(object):\n",
    "    def preorderTraversal(self, root):\n",
    "        res = []\n",
    "        def dfs(root):\n",
    "            nonlocal res    \n",
    "            if not root:\n",
    "                return\n",
    "\n",
    "            res.append(root.val)  \n",
    "            dfs(root.left)\n",
    "            dfs(root.right)\n",
    "\n",
    "        dfs(root)\n",
    "        return res\n",
    "\n",
    "    def inorderTraveral(self, root):\n",
    "        res = []\n",
    "        def dfs(root):\n",
    "            nonlocal res    \n",
    "            if not root:\n",
    "                return\n",
    "\n",
    "            dfs(root.left)\n",
    "            res.append(root.val)  \n",
    "            dfs(root.right)\n",
    "\n",
    "        dfs(root)\n",
    "        return res\n",
    "\n",
    "    def postorderTraveral(self, root):\n",
    "        res = []\n",
    "        def dfs(root):\n",
    "            nonlocal res    \n",
    "            if not root:\n",
    "                return\n",
    "\n",
    "            dfs(root.left)\n",
    "            dfs(root.right)\n",
    "            res.append(root.val)  \n",
    "\n",
    "        dfs(root)\n",
    "        return res"
   ]
  }
 ],
 "metadata": {
  "kernelspec": {
   "display_name": "cpm2",
   "language": "python",
   "name": "cpm2"
  },
  "language_info": {
   "codemirror_mode": {
    "name": "ipython",
    "version": 3
   },
   "file_extension": ".py",
   "mimetype": "text/x-python",
   "name": "python",
   "nbconvert_exporter": "python",
   "pygments_lexer": "ipython3",
   "version": "3.6.13"
  }
 },
 "nbformat": 4,
 "nbformat_minor": 5
}
