{
 "cells": [
  {
   "cell_type": "code",
   "execution_count": null,
   "id": "2253581d",
   "metadata": {},
   "outputs": [],
   "source": [
    "class Solution(object):\n",
    "    def invertTree(self, root):\n",
    "        # 递归终止条件，节点为空时返回\n",
    "        if not root:\n",
    "            return None\n",
    "\n",
    "        # 将当前节点的左右子树交换\n",
    "        root.left, root.right = root.right, root.left\n",
    "        # 递归交换当前节点的 左子树和右子树\n",
    "        self.invertTree(root.left)\n",
    "        self.invertTree(root.right)\n",
    "\n",
    "        return root"
   ]
  }
 ],
 "metadata": {
  "kernelspec": {
   "display_name": "Python 3",
   "language": "python",
   "name": "python3"
  },
  "language_info": {
   "codemirror_mode": {
    "name": "ipython",
    "version": 3
   },
   "file_extension": ".py",
   "mimetype": "text/x-python",
   "name": "python",
   "nbconvert_exporter": "python",
   "pygments_lexer": "ipython3",
   "version": "3.8.8"
  }
 },
 "nbformat": 4,
 "nbformat_minor": 5
}
