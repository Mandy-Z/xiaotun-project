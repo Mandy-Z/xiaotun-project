{
 "cells": [
  {
   "cell_type": "code",
   "execution_count": null,
   "id": "bf2538b8",
   "metadata": {},
   "outputs": [],
   "source": [
    "class Solution():\n",
    "    def maxDepth(self, root):\n",
    "        if root is None:\n",
    "            return 0\n",
    "        else:\n",
    "            left_height = self.maxDepth(root.left)\n",
    "            right_heught = self.maxDepth(root.right)\n",
    "\n",
    "        return max(left_height, right_height)  + 1"
   ]
  }
 ],
 "metadata": {
  "kernelspec": {
   "display_name": "Python 3",
   "language": "python",
   "name": "python3"
  },
  "language_info": {
   "codemirror_mode": {
    "name": "ipython",
    "version": 3
   },
   "file_extension": ".py",
   "mimetype": "text/x-python",
   "name": "python",
   "nbconvert_exporter": "python",
   "pygments_lexer": "ipython3",
   "version": "3.8.8"
  }
 },
 "nbformat": 4,
 "nbformat_minor": 5
}
